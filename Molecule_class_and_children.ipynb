{
 "cells": [
  {
   "cell_type": "code",
   "execution_count": 460,
   "id": "abcf51d6",
   "metadata": {},
   "outputs": [],
   "source": [
    "'''\n",
    "Creation of a molecule class and child classes as well. \n",
    "\n",
    "These classes will be used for generation of a chemical inventory with machine learning applications\n",
    "\n",
    "'''\n",
    "class molecule: #root class\n",
    "    counter = 0 \n",
    "    def __init__(self, name, molecular_weight = None):\n",
    "        self.name = name\n",
    "        self.molecular_weight = molecular_weight\n",
    "        type(self).counter += 1\n",
    "    \n",
    "    #def get_data(self):\n",
    "     #   print (\"My chemical name is \",self.name,\" and my molecular weight is \" , self.molecular_weight, \". \\nThe instance counter for my class (\",str(type(self))[17:-2],\") is \", type(self).counter,\".\")\n",
    "    @classmethod \n",
    "    def get_data(cls):\n",
    "        print((cls), cls.counter)\n",
    "    \n",
    "class mycotoxin (molecule): #child class\n",
    "    def get_data(self):\n",
    "        super().get_data()\n",
    "        return self.name\n",
    "\n",
    "class carcinogen (molecule): #child class\n",
    "    def get_data(self):\n",
    "        self.is_carcinogen = True\n",
    "        super().get_data()\n",
    "        print('Classified as a carcinogen')\n",
    "        \n",
    "\n",
    "class aflatoxin (mycotoxin, carcinogen): #grandchild class\n",
    "    def get_data(self):\n",
    "        super().get_data()\n",
    "        print(\"This molecule is a mycotoxin\")\n",
    "\n",
    "\n",
    "        "
   ]
  }
 ],
 "metadata": {
  "kernelspec": {
   "display_name": "Python 3 (ipykernel)",
   "language": "python",
   "name": "python3"
  },
  "language_info": {
   "codemirror_mode": {
    "name": "ipython",
    "version": 3
   },
   "file_extension": ".py",
   "mimetype": "text/x-python",
   "name": "python",
   "nbconvert_exporter": "python",
   "pygments_lexer": "ipython3",
   "version": "3.9.12"
  }
 },
 "nbformat": 4,
 "nbformat_minor": 5
}
